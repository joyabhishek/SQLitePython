{
 "cells": [
  {
   "cell_type": "markdown",
   "metadata": {},
   "source": [
    "- All of these things that we are learning are useless -> If we cant make a product out of it\n",
    "- Less complex code\n",
    "- Data management is very important -> It quickens the other part of Data science steps"
   ]
  },
  {
   "cell_type": "markdown",
   "metadata": {},
   "source": [
    "Data Engineering -> gathering data -> managing it -> Storing it\n",
    "\n",
    "Data Analysis -> Maths -> Stats -> Predictions\n",
    "\n",
    "Substantial intelligence -> Domain knowledge\n",
    "\n",
    "All 3 constitutes Data Science"
   ]
  },
  {
   "cell_type": "markdown",
   "metadata": {},
   "source": [
    "Pandas loads things into memory. If you huge amount of data which doesn't fit into memory?\n",
    "Database stores some in memory some in disk "
   ]
  },
  {
   "cell_type": "markdown",
   "metadata": {},
   "source": [
    "relational => Stores in the form of tables\n",
    "document oriented => Stores file after file JSON\n",
    "key-value => Its used when we give a key and want the value \n",
    "graph based => Used by FB \n",
    "\n",
    "Use the one that fites your need. If you dont know pick Relationsl because it has been worked for such a long time."
   ]
  },
  {
   "cell_type": "markdown",
   "metadata": {},
   "source": [
    "Grammer of Data => The verbs we can use with the data \n",
    "Add, delete, read, update \n",
    "Foundation for every data storeage system. And what extra it can do apart from that."
   ]
  },
  {
   "cell_type": "markdown",
   "metadata": {},
   "source": [
    "- Chris Albon.com ==> for small code snippets"
   ]
  },
  {
   "cell_type": "markdown",
   "metadata": {},
   "source": [
    "### The coding starts "
   ]
  },
  {
   "cell_type": "code",
   "execution_count": 2,
   "metadata": {},
   "outputs": [],
   "source": [
    "import numpy as np\n",
    "import pandas as pd\n",
    "import scipy as sp\n",
    "import matplotlib.pyplot as plt\n",
    "import time\n",
    "import seaborn as sns"
   ]
  },
  {
   "cell_type": "markdown",
   "metadata": {},
   "source": [
    "- Pandas we dont need to specify the datatypes of the columns. \n",
    "- But in SQL it has to be of specific type\n",
    "- With constraints comes performance"
   ]
  },
  {
   "cell_type": "markdown",
   "metadata": {},
   "source": [
    "#### Inserting data"
   ]
  },
  {
   "cell_type": "code",
   "execution_count": 29,
   "metadata": {},
   "outputs": [],
   "source": [
    "createStatement = \"\"\"\n",
    "\n",
    "DROP TABLE IF EXISTS candidates;\n",
    "DROP TABLE IF EXISTS contributors;\n",
    "\n",
    "CREATE TABLE \"candidates\" (\n",
    "\"id\" INTEGER PRIMARY KEY NOT NULL,\n",
    "\"first_name\" VARCHAR,\n",
    "\"last_name\" VARCHAR,\n",
    "\"middle_name\" VARCHAR,\n",
    "\"party\" VARCHAR NOT NULL\n",
    ");\n",
    "\n",
    "CREATE TABLE \"contributors\" (\n",
    "\"id\" INTEGER PRIMARY KEY AUTOINCREMENT NOT NULL,\n",
    "\"first_name\" VARCHAR,\n",
    "\"last_name\" VARCHAR,\n",
    "\"middle_name\" VARCHAR,\n",
    "\"street_1\" VARCHAR,\n",
    "\"street_2\" VARCHAR,\n",
    "\"city\" VARCHAR,\n",
    "\"state\" VARCHAR,\n",
    "\"zip\" VARCHAR,\n",
    "\"amount\" INTEGER,\n",
    "\"date\" DATETIME,\n",
    "\"candidate_id\" INTEGER NOT NULL,\n",
    "FOREIGN KEY(candidate_id) REFERENCES candidates(id)\n",
    ");\n",
    "\n",
    "\"\"\""
   ]
  },
  {
   "cell_type": "markdown",
   "metadata": {},
   "source": [
    "- dbapi2 is an API in python which helps to commect to any SQL DB and the syntax remains the same"
   ]
  },
  {
   "cell_type": "code",
   "execution_count": 5,
   "metadata": {},
   "outputs": [],
   "source": [
    "from sqlite3 import dbapi2 as sq3\n",
    "import os \n",
    "PATH_START = \".\"\n",
    "def get_db(dbfile):\n",
    "    sqlite_db = sq3.connect(os.path.join(PATH_START, dbfile))\n",
    "    return sqlite_db"
   ]
  },
  {
   "cell_type": "code",
   "execution_count": null,
   "metadata": {},
   "outputs": [],
   "source": [
    "- What if the dbfile is not available\n"
   ]
  },
  {
   "cell_type": "code",
   "execution_count": 6,
   "metadata": {},
   "outputs": [],
   "source": [
    "def init_db(dbfile, schema):\n",
    "    db = get_db(dbfile)\n",
    "    db.cursor().executescript(createStatement)\n",
    "    db.commit()\n",
    "    return db"
   ]
  },
  {
   "cell_type": "code",
   "execution_count": 9,
   "metadata": {},
   "outputs": [
    {
     "data": {
      "text/html": [
       "<div>\n",
       "<style scoped>\n",
       "    .dataframe tbody tr th:only-of-type {\n",
       "        vertical-align: middle;\n",
       "    }\n",
       "\n",
       "    .dataframe tbody tr th {\n",
       "        vertical-align: top;\n",
       "    }\n",
       "\n",
       "    .dataframe thead th {\n",
       "        text-align: right;\n",
       "    }\n",
       "</style>\n",
       "<table border=\"1\" class=\"dataframe\">\n",
       "  <thead>\n",
       "    <tr style=\"text-align: right;\">\n",
       "      <th></th>\n",
       "      <th>id</th>\n",
       "      <th>first_name</th>\n",
       "      <th>last_name</th>\n",
       "      <th>middle_name</th>\n",
       "      <th>party</th>\n",
       "    </tr>\n",
       "  </thead>\n",
       "  <tbody>\n",
       "    <tr>\n",
       "      <th>0</th>\n",
       "      <td>33</td>\n",
       "      <td>Joseph</td>\n",
       "      <td>Biden</td>\n",
       "      <td>NaN</td>\n",
       "      <td>D</td>\n",
       "    </tr>\n",
       "    <tr>\n",
       "      <th>1</th>\n",
       "      <td>36</td>\n",
       "      <td>Samuel</td>\n",
       "      <td>Brownback</td>\n",
       "      <td>NaN</td>\n",
       "      <td>R</td>\n",
       "    </tr>\n",
       "    <tr>\n",
       "      <th>2</th>\n",
       "      <td>34</td>\n",
       "      <td>Hillary</td>\n",
       "      <td>Clinton</td>\n",
       "      <td>R.</td>\n",
       "      <td>D</td>\n",
       "    </tr>\n",
       "    <tr>\n",
       "      <th>3</th>\n",
       "      <td>39</td>\n",
       "      <td>Christopher</td>\n",
       "      <td>Dodd</td>\n",
       "      <td>J.</td>\n",
       "      <td>D</td>\n",
       "    </tr>\n",
       "    <tr>\n",
       "      <th>4</th>\n",
       "      <td>26</td>\n",
       "      <td>John</td>\n",
       "      <td>Edwards</td>\n",
       "      <td>NaN</td>\n",
       "      <td>D</td>\n",
       "    </tr>\n",
       "  </tbody>\n",
       "</table>\n",
       "</div>"
      ],
      "text/plain": [
       "   id   first_name  last_name middle_name party\n",
       "0  33       Joseph      Biden         NaN     D\n",
       "1  36       Samuel  Brownback         NaN     R\n",
       "2  34      Hillary    Clinton          R.     D\n",
       "3  39  Christopher       Dodd          J.     D\n",
       "4  26         John    Edwards         NaN     D"
      ]
     },
     "execution_count": 9,
     "metadata": {},
     "output_type": "execute_result"
    }
   ],
   "source": [
    "df = pd.read_csv('candidates.txt', sep='|')\n",
    "df.head()"
   ]
  },
  {
   "cell_type": "code",
   "execution_count": 10,
   "metadata": {},
   "outputs": [
    {
     "data": {
      "text/html": [
       "<div>\n",
       "<style scoped>\n",
       "    .dataframe tbody tr th:only-of-type {\n",
       "        vertical-align: middle;\n",
       "    }\n",
       "\n",
       "    .dataframe tbody tr th {\n",
       "        vertical-align: top;\n",
       "    }\n",
       "\n",
       "    .dataframe thead th {\n",
       "        text-align: right;\n",
       "    }\n",
       "</style>\n",
       "<table border=\"1\" class=\"dataframe\">\n",
       "  <thead>\n",
       "    <tr style=\"text-align: right;\">\n",
       "      <th></th>\n",
       "      <th>id</th>\n",
       "      <th>last_name</th>\n",
       "      <th>first_name</th>\n",
       "      <th>middle_name</th>\n",
       "      <th>street_1</th>\n",
       "      <th>street_2</th>\n",
       "      <th>city</th>\n",
       "      <th>state</th>\n",
       "      <th>zip</th>\n",
       "      <th>amount</th>\n",
       "      <th>date</th>\n",
       "      <th>candidate_id</th>\n",
       "    </tr>\n",
       "  </thead>\n",
       "  <tbody>\n",
       "    <tr>\n",
       "      <th>0</th>\n",
       "      <td>NaN</td>\n",
       "      <td>Agee</td>\n",
       "      <td>Steven</td>\n",
       "      <td>NaN</td>\n",
       "      <td>549 Laurel Branch Road</td>\n",
       "      <td>NaN</td>\n",
       "      <td>Floyd</td>\n",
       "      <td>VA</td>\n",
       "      <td>24091</td>\n",
       "      <td>500.0</td>\n",
       "      <td>2007-06-30</td>\n",
       "      <td>16</td>\n",
       "    </tr>\n",
       "    <tr>\n",
       "      <th>1</th>\n",
       "      <td>NaN</td>\n",
       "      <td>Ahrens</td>\n",
       "      <td>Don</td>\n",
       "      <td>NaN</td>\n",
       "      <td>4034 Rennellwood Way</td>\n",
       "      <td>NaN</td>\n",
       "      <td>Pleasanton</td>\n",
       "      <td>CA</td>\n",
       "      <td>94566</td>\n",
       "      <td>250.0</td>\n",
       "      <td>2007-05-16</td>\n",
       "      <td>16</td>\n",
       "    </tr>\n",
       "    <tr>\n",
       "      <th>2</th>\n",
       "      <td>NaN</td>\n",
       "      <td>Ahrens</td>\n",
       "      <td>Don</td>\n",
       "      <td>NaN</td>\n",
       "      <td>4034 Rennellwood Way</td>\n",
       "      <td>NaN</td>\n",
       "      <td>Pleasanton</td>\n",
       "      <td>CA</td>\n",
       "      <td>94566</td>\n",
       "      <td>50.0</td>\n",
       "      <td>2007-06-18</td>\n",
       "      <td>16</td>\n",
       "    </tr>\n",
       "    <tr>\n",
       "      <th>3</th>\n",
       "      <td>NaN</td>\n",
       "      <td>Ahrens</td>\n",
       "      <td>Don</td>\n",
       "      <td>NaN</td>\n",
       "      <td>4034 Rennellwood Way</td>\n",
       "      <td>NaN</td>\n",
       "      <td>Pleasanton</td>\n",
       "      <td>CA</td>\n",
       "      <td>94566</td>\n",
       "      <td>100.0</td>\n",
       "      <td>2007-06-21</td>\n",
       "      <td>16</td>\n",
       "    </tr>\n",
       "    <tr>\n",
       "      <th>4</th>\n",
       "      <td>NaN</td>\n",
       "      <td>Akin</td>\n",
       "      <td>Charles</td>\n",
       "      <td>NaN</td>\n",
       "      <td>10187 Sugar Creek Road</td>\n",
       "      <td>NaN</td>\n",
       "      <td>Bentonville</td>\n",
       "      <td>AR</td>\n",
       "      <td>72712</td>\n",
       "      <td>100.0</td>\n",
       "      <td>2007-06-16</td>\n",
       "      <td>16</td>\n",
       "    </tr>\n",
       "  </tbody>\n",
       "</table>\n",
       "</div>"
      ],
      "text/plain": [
       "   id last_name first_name middle_name                street_1 street_2  \\\n",
       "0 NaN      Agee     Steven         NaN  549 Laurel Branch Road      NaN   \n",
       "1 NaN    Ahrens        Don         NaN    4034 Rennellwood Way      NaN   \n",
       "2 NaN    Ahrens        Don         NaN    4034 Rennellwood Way      NaN   \n",
       "3 NaN    Ahrens        Don         NaN    4034 Rennellwood Way      NaN   \n",
       "4 NaN      Akin    Charles         NaN  10187 Sugar Creek Road      NaN   \n",
       "\n",
       "          city state    zip  amount        date  candidate_id  \n",
       "0        Floyd    VA  24091   500.0  2007-06-30            16  \n",
       "1   Pleasanton    CA  94566   250.0  2007-05-16            16  \n",
       "2   Pleasanton    CA  94566    50.0  2007-06-18            16  \n",
       "3   Pleasanton    CA  94566   100.0  2007-06-21            16  \n",
       "4  Bentonville    AR  72712   100.0  2007-06-16            16  "
      ]
     },
     "execution_count": 10,
     "metadata": {},
     "output_type": "execute_result"
    }
   ],
   "source": [
    "df_cid = pd.read_csv('contributors_with_candidate_id.txt', sep='|')\n",
    "df_cid.head()"
   ]
  },
  {
   "cell_type": "code",
   "execution_count": 12,
   "metadata": {},
   "outputs": [
    {
     "data": {
      "text/html": [
       "<div>\n",
       "<style scoped>\n",
       "    .dataframe tbody tr th:only-of-type {\n",
       "        vertical-align: middle;\n",
       "    }\n",
       "\n",
       "    .dataframe tbody tr th {\n",
       "        vertical-align: top;\n",
       "    }\n",
       "\n",
       "    .dataframe thead th {\n",
       "        text-align: right;\n",
       "    }\n",
       "</style>\n",
       "<table border=\"1\" class=\"dataframe\">\n",
       "  <thead>\n",
       "    <tr style=\"text-align: right;\">\n",
       "      <th></th>\n",
       "      <th>last_name</th>\n",
       "      <th>first_name</th>\n",
       "      <th>middle_name</th>\n",
       "      <th>street_1</th>\n",
       "      <th>street_2</th>\n",
       "      <th>city</th>\n",
       "      <th>state</th>\n",
       "      <th>zip</th>\n",
       "      <th>amount</th>\n",
       "      <th>date</th>\n",
       "      <th>candidate_id</th>\n",
       "    </tr>\n",
       "  </thead>\n",
       "  <tbody>\n",
       "    <tr>\n",
       "      <th>0</th>\n",
       "      <td>Agee</td>\n",
       "      <td>Steven</td>\n",
       "      <td>NaN</td>\n",
       "      <td>549 Laurel Branch Road</td>\n",
       "      <td>NaN</td>\n",
       "      <td>Floyd</td>\n",
       "      <td>VA</td>\n",
       "      <td>24091</td>\n",
       "      <td>500.0</td>\n",
       "      <td>2007-06-30</td>\n",
       "      <td>16</td>\n",
       "    </tr>\n",
       "    <tr>\n",
       "      <th>1</th>\n",
       "      <td>Ahrens</td>\n",
       "      <td>Don</td>\n",
       "      <td>NaN</td>\n",
       "      <td>4034 Rennellwood Way</td>\n",
       "      <td>NaN</td>\n",
       "      <td>Pleasanton</td>\n",
       "      <td>CA</td>\n",
       "      <td>94566</td>\n",
       "      <td>250.0</td>\n",
       "      <td>2007-05-16</td>\n",
       "      <td>16</td>\n",
       "    </tr>\n",
       "    <tr>\n",
       "      <th>2</th>\n",
       "      <td>Ahrens</td>\n",
       "      <td>Don</td>\n",
       "      <td>NaN</td>\n",
       "      <td>4034 Rennellwood Way</td>\n",
       "      <td>NaN</td>\n",
       "      <td>Pleasanton</td>\n",
       "      <td>CA</td>\n",
       "      <td>94566</td>\n",
       "      <td>50.0</td>\n",
       "      <td>2007-06-18</td>\n",
       "      <td>16</td>\n",
       "    </tr>\n",
       "    <tr>\n",
       "      <th>3</th>\n",
       "      <td>Ahrens</td>\n",
       "      <td>Don</td>\n",
       "      <td>NaN</td>\n",
       "      <td>4034 Rennellwood Way</td>\n",
       "      <td>NaN</td>\n",
       "      <td>Pleasanton</td>\n",
       "      <td>CA</td>\n",
       "      <td>94566</td>\n",
       "      <td>100.0</td>\n",
       "      <td>2007-06-21</td>\n",
       "      <td>16</td>\n",
       "    </tr>\n",
       "    <tr>\n",
       "      <th>4</th>\n",
       "      <td>Akin</td>\n",
       "      <td>Charles</td>\n",
       "      <td>NaN</td>\n",
       "      <td>10187 Sugar Creek Road</td>\n",
       "      <td>NaN</td>\n",
       "      <td>Bentonville</td>\n",
       "      <td>AR</td>\n",
       "      <td>72712</td>\n",
       "      <td>100.0</td>\n",
       "      <td>2007-06-16</td>\n",
       "      <td>16</td>\n",
       "    </tr>\n",
       "  </tbody>\n",
       "</table>\n",
       "</div>"
      ],
      "text/plain": [
       "  last_name first_name middle_name                street_1 street_2  \\\n",
       "0      Agee     Steven         NaN  549 Laurel Branch Road      NaN   \n",
       "1    Ahrens        Don         NaN    4034 Rennellwood Way      NaN   \n",
       "2    Ahrens        Don         NaN    4034 Rennellwood Way      NaN   \n",
       "3    Ahrens        Don         NaN    4034 Rennellwood Way      NaN   \n",
       "4      Akin    Charles         NaN  10187 Sugar Creek Road      NaN   \n",
       "\n",
       "          city state    zip  amount        date  candidate_id  \n",
       "0        Floyd    VA  24091   500.0  2007-06-30            16  \n",
       "1   Pleasanton    CA  94566   250.0  2007-05-16            16  \n",
       "2   Pleasanton    CA  94566    50.0  2007-06-18            16  \n",
       "3   Pleasanton    CA  94566   100.0  2007-06-21            16  \n",
       "4  Bentonville    AR  72712   100.0  2007-06-16            16  "
      ]
     },
     "execution_count": 12,
     "metadata": {},
     "output_type": "execute_result"
    }
   ],
   "source": [
    "del df_cid['id']\n",
    "df_cid.head()"
   ]
  },
  {
   "cell_type": "markdown",
   "metadata": {},
   "source": [
    "- Explain why DROP was added to schema."
   ]
  },
  {
   "cell_type": "markdown",
   "metadata": {},
   "source": [
    "### init"
   ]
  },
  {
   "cell_type": "code",
   "execution_count": 30,
   "metadata": {
    "scrolled": true
   },
   "outputs": [],
   "source": [
    "db = init_db('concat.db', createStatement)"
   ]
  },
  {
   "cell_type": "markdown",
   "metadata": {},
   "source": [
    "### Populating with pandas"
   ]
  },
  {
   "cell_type": "code",
   "execution_count": 31,
   "metadata": {},
   "outputs": [],
   "source": [
    "df.to_sql('candidates', db, if_exists='append', index=False)\n",
    "df_cid.to_sql('contributors', db, if_exists='append', index=False)"
   ]
  },
  {
   "cell_type": "code",
   "execution_count": 32,
   "metadata": {},
   "outputs": [],
   "source": [
    "sel = \"\"\"\n",
    "SELECT * FROM candidates;\n",
    "\"\"\""
   ]
  },
  {
   "cell_type": "code",
   "execution_count": 33,
   "metadata": {},
   "outputs": [
    {
     "data": {
      "text/plain": [
       "[(16, 'Mike', 'Huckabee', None, 'R'),\n",
       " (20, 'Barack', 'Obama', None, 'D'),\n",
       " (22, 'Rudolph', 'Giuliani', None, 'R'),\n",
       " (24, 'Mike', 'Gravel', None, 'D'),\n",
       " (26, 'John', 'Edwards', None, 'D'),\n",
       " (29, 'Bill', 'Richardson', None, 'D'),\n",
       " (30, 'Duncan', 'Hunter', None, 'R'),\n",
       " (31, 'Dennis', 'Kucinich', None, 'D'),\n",
       " (32, 'Ron', 'Paul', None, 'R'),\n",
       " (33, 'Joseph', 'Biden', None, 'D'),\n",
       " (34, 'Hillary', 'Clinton', 'R.', 'D'),\n",
       " (35, 'Mitt', 'Romney', None, 'R'),\n",
       " (36, 'Samuel', 'Brownback', None, 'R'),\n",
       " (37, 'John', 'McCain', None, 'R'),\n",
       " (38, 'Tom', 'Tancredo', None, 'R'),\n",
       " (39, 'Christopher', 'Dodd', 'J.', 'D'),\n",
       " (41, 'Fred', 'Thompson', 'D.', 'R')]"
      ]
     },
     "execution_count": 33,
     "metadata": {},
     "output_type": "execute_result"
    }
   ],
   "source": [
    "db.cursor().execute(sel).fetchall()"
   ]
  }
 ],
 "metadata": {
  "kernelspec": {
   "display_name": "Python [conda env:preReqML] *",
   "language": "python",
   "name": "conda-env-preReqML-py"
  },
  "language_info": {
   "codemirror_mode": {
    "name": "ipython",
    "version": 3
   },
   "file_extension": ".py",
   "mimetype": "text/x-python",
   "name": "python",
   "nbconvert_exporter": "python",
   "pygments_lexer": "ipython3",
   "version": "3.8.5"
  }
 },
 "nbformat": 4,
 "nbformat_minor": 4
}
